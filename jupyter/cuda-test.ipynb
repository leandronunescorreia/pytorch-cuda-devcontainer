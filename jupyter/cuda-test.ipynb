{
 "cells": [
  {
   "cell_type": "code",
   "execution_count": null,
   "id": "fdfc5b31",
   "metadata": {},
   "outputs": [
    {
     "name": "stdout",
     "output_type": "stream",
     "text": [
      "torch version: 2.7.1+cu118\n",
      "CUDA available: True\n",
      "CUDA device name: NVIDIA GeForce RTX 3070 Ti Laptop GPU\n",
      "CUDA device count: 1\n",
      "Current CUDA device: 0\n",
      "CUDA device capability: (8, 6)\n",
      "CUDA device properties: _CudaDeviceProperties(name='NVIDIA GeForce RTX 3070 Ti Laptop GPU', major=8, minor=6, total_memory=8191MB, multi_processor_count=46, uuid=fefe497f-e5be-51e3-ecb6-db968d4da032, L2_cache_size=4MB)\n",
      "BF16 support: True\n",
      "Architecture list: ['sm_50', 'sm_60', 'sm_70', 'sm_75', 'sm_80', 'sm_86', 'sm_37', 'sm_90']\n"
     ]
    }
   ],
   "source": [
    "import torch\n",
    "\n",
    "print(\"torch version:\", torch.__version__)\n",
    "print(\"CUDA available:\", torch.cuda.is_available())\n",
    "print(\"CUDA device name:\", torch.cuda.get_device_name(0) if torch.cuda.is_available() else \"No CUDA device available\")\n",
    "print(\"CUDA device count:\", torch.cuda.device_count())\n",
    "print(\"Current CUDA device:\", torch.cuda.current_device() if torch.cuda.is_available() else \"No current CUDA device\")\n",
    "print(\"CUDA device capability:\", torch.cuda.get_device_capability(0) if torch.cuda.is_available() else \"No device capability available\")\n",
    "print(\"CUDA device properties:\", torch.cuda.get_device_properties(0) if torch.cuda.is_available() else \"No device properties available\")\n",
    "print(\"BF16 support:\", torch.cuda.is_bf16_supported() if torch.cuda.is_available() else \"BF16 support not available\")\n",
    "print(\"Architecture list:\", torch.cuda.get_arch_list() if torch.cuda.is_available() else \"No architecture list available\")\n"
   ]
  }
 ],
 "metadata": {
  "kernelspec": {
   "display_name": "Python 3",
   "language": "python",
   "name": "python3"
  },
  "language_info": {
   "codemirror_mode": {
    "name": "ipython",
    "version": 3
   },
   "file_extension": ".py",
   "mimetype": "text/x-python",
   "name": "python",
   "nbconvert_exporter": "python",
   "pygments_lexer": "ipython3",
   "version": "3.10.12"
  }
 },
 "nbformat": 4,
 "nbformat_minor": 5
}
