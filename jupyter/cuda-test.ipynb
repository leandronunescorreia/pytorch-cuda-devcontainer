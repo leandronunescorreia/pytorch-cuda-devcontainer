{
 "cells": [
  {
   "cell_type": "code",
   "execution_count": 1,
   "id": "fdfc5b31",
   "metadata": {},
   "outputs": [
    {
     "name": "stdout",
     "output_type": "stream",
     "text": [
      "torch version: 2.7.1+cu118\n",
      "CUDA available: True\n",
      "CUDA device name: NVIDIA GeForce RTX 3070 Ti Laptop GPU\n",
      "CUDA device count: 1\n",
      "Current CUDA device: 0\n",
      "CUDA device capability: (8, 6)\n",
      "CUDA device properties: _CudaDeviceProperties(name='NVIDIA GeForce RTX 3070 Ti Laptop GPU', major=8, minor=6, total_memory=8191MB, multi_processor_count=46, uuid=fefe497f-e5be-51e3-ecb6-db968d4da032, L2_cache_size=4MB)\n",
      "BF16 support: True\n",
      "Architecture list: ['sm_50', 'sm_60', 'sm_70', 'sm_75', 'sm_80', 'sm_86', 'sm_37', 'sm_90']\n"
     ]
    }
   ],
   "source": [
    "import torch\n",
    "\n",
    "print(\"torch version:\", torch.__version__)\n",
    "print(\"CUDA available:\", torch.cuda.is_available())\n",
    "print(\"CUDA device name:\", torch.cuda.get_device_name(0) if torch.cuda.is_available() else \"No CUDA device available\")\n",
    "print(\"CUDA device count:\", torch.cuda.device_count())\n",
    "print(\"Current CUDA device:\", torch.cuda.current_device() if torch.cuda.is_available() else \"No current CUDA device\")\n",
    "print(\"CUDA device capability:\", torch.cuda.get_device_capability(0) if torch.cuda.is_available() else \"No device capability available\")\n",
    "print(\"CUDA device properties:\", torch.cuda.get_device_properties(0) if torch.cuda.is_available() else \"No device properties available\")\n",
    "print(\"BF16 support:\", torch.cuda.is_bf16_supported() if torch.cuda.is_available() else \"BF16 support not available\")\n",
    "print(\"Architecture list:\", torch.cuda.get_arch_list() if torch.cuda.is_available() else \"No architecture list available\")\n"
   ]
  },
  {
   "cell_type": "markdown",
   "id": "750f2b40",
   "metadata": {},
   "source": [
    "# Check CUDNN"
   ]
  },
  {
   "cell_type": "markdown",
   "id": "10ee31bb",
   "metadata": {},
   "source": [
    "## simple way system find"
   ]
  },
  {
   "cell_type": "code",
   "execution_count": null,
   "id": "28afa832",
   "metadata": {},
   "outputs": [
    {
     "name": "stdout",
     "output_type": "stream",
     "text": [
      "/usr/local/lib/python3.10/dist-packages/nvidia/cudnn/lib/libcudnn_engines_runtime_compiled.so.9\n",
      "/usr/local/lib/python3.10/dist-packages/nvidia/cudnn/lib/libcudnn.so.9\n",
      "/usr/local/lib/python3.10/dist-packages/nvidia/cudnn/lib/libcudnn_ops.so.9\n",
      "/usr/local/lib/python3.10/dist-packages/nvidia/cudnn/lib/libcudnn_cnn.so.9\n",
      "/usr/local/lib/python3.10/dist-packages/nvidia/cudnn/lib/libcudnn_adv.so.9\n",
      "/usr/local/lib/python3.10/dist-packages/nvidia/cudnn/lib/libcudnn_graph.so.9\n",
      "/usr/local/lib/python3.10/dist-packages/nvidia/cudnn/lib/libcudnn_heuristic.so.9\n",
      "/usr/local/lib/python3.10/dist-packages/nvidia/cudnn/lib/libcudnn_engines_precompiled.so.9\n"
     ]
    }
   ],
   "source": [
    "!find /usr -name 'libcudnn*.so*'\n"
   ]
  },
  {
   "cell_type": "markdown",
   "id": "e7e319a0",
   "metadata": {},
   "source": [
    "## Pytorch way"
   ]
  },
  {
   "cell_type": "code",
   "execution_count": 20,
   "id": "65323923",
   "metadata": {},
   "outputs": [
    {
     "name": "stdout",
     "output_type": "stream",
     "text": [
      "True\n",
      "90100\n"
     ]
    }
   ],
   "source": [
    "print(torch.backends.cudnn.enabled)\n",
    "print(torch.backends.cudnn.version())"
   ]
  },
  {
   "cell_type": "markdown",
   "id": "e4c6bbe0",
   "metadata": {},
   "source": [
    "## Troubleshooting → brute force pythonic way"
   ]
  },
  {
   "cell_type": "code",
   "execution_count": 35,
   "id": "52b54b02",
   "metadata": {},
   "outputs": [],
   "source": [
    "import os\n",
    "import re\n",
    "\n",
    "def find_cudnn_header(start_path='/usr', filename='cudnn.h'):\n",
    "    for root, _, files in os.walk(start_path):\n",
    "        if 'cudnn.h' in files:\n",
    "            cudnn_header_path = os.path.join(root, filename)\n",
    "            print(f\"Found cudnn.h at: {cudnn_header_path}\")\n",
    "            return cudnn_header_path\n",
    "    return None\n",
    "\n",
    "def extract_cudnn_version(filepath):\n",
    "    with open(filepath, 'r') as f:\n",
    "        content = f.read()    \n",
    "    major = re.search(r'#define\\s+CUDNN_MAJOR\\s+(\\d+)', content)\n",
    "    minor = re.search(r'#define\\s+CUDNN_MINOR\\s+(\\d+)', content)\n",
    "    patch = re.search(r'#define\\s+CUDNN_PATCHLEVEL\\s+(\\d+)', content)\n",
    "    return major, minor, patch"
   ]
  },
  {
   "cell_type": "code",
   "execution_count": 36,
   "id": "37f455ef",
   "metadata": {},
   "outputs": [
    {
     "name": "stdout",
     "output_type": "stream",
     "text": [
      "Found cudnn.h at: /usr/local/lib/python3.10/dist-packages/nvidia/cudnn/include/cudnn.h\n",
      "Found cudnn.h at: /usr/local/lib/python3.10/dist-packages/nvidia/cudnn/include/cudnn_version.h\n",
      "#define CUDNN_MAJOR 9\n",
      "#define CUDNN_MINOR 1\n",
      "#define CUDNN_PATCHLEVEL 0\n"
     ]
    }
   ],
   "source": [
    "cudnn_header = None\n",
    "cudnn_header = find_cudnn_header()\n",
    "\n",
    "if cudnn_header:\n",
    "    major, minor, patch = extract_cudnn_version(cudnn_header)\n",
    "    \n",
    "    if not major and not minor and not patch:\n",
    "        cudnn_header = find_cudnn_header(filename=\"cudnn_version.h\")\n",
    "        if cudnn_header:\n",
    "            major, minor, patch = extract_cudnn_version(cudnn_header)\n",
    "    \n",
    "    print(f\"#define CUDNN_MAJOR {major.group(1)}\" if major else \"CUDNN_MAJOR not found\")\n",
    "    print(f\"#define CUDNN_MINOR {minor.group(1)}\" if minor else \"CUDNN_MINOR not found\")\n",
    "    print(f\"#define CUDNN_PATCHLEVEL {patch.group(1)}\" if patch else \"CUDNN_PATCHLEVEL not found\")\n",
    "else:\n",
    "    print(\"cudnn.h not found\")"
   ]
  }
 ],
 "metadata": {
  "kernelspec": {
   "display_name": "Python 3",
   "language": "python",
   "name": "python3"
  },
  "language_info": {
   "codemirror_mode": {
    "name": "ipython",
    "version": 3
   },
   "file_extension": ".py",
   "mimetype": "text/x-python",
   "name": "python",
   "nbconvert_exporter": "python",
   "pygments_lexer": "ipython3",
   "version": "3.10.12"
  }
 },
 "nbformat": 4,
 "nbformat_minor": 5
}
